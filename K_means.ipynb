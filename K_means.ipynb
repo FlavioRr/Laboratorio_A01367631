{
  "nbformat": 4,
  "nbformat_minor": 0,
  "metadata": {
    "colab": {
      "name": "K means",
      "provenance": [],
      "collapsed_sections": [],
      "authorship_tag": "ABX9TyMzCJ3JZIAlCPz3XGVjo26b",
      "include_colab_link": true
    },
    "kernelspec": {
      "name": "python3",
      "display_name": "Python 3"
    },
    "language_info": {
      "name": "python"
    }
  },
  "cells": [
    {
      "cell_type": "markdown",
      "metadata": {
        "id": "view-in-github",
        "colab_type": "text"
      },
      "source": [
        "<a href=\"https://colab.research.google.com/github/FlavioRr/Laboratorio_A01367631/blob/main/K_means.ipynb\" target=\"_parent\"><img src=\"https://colab.research.google.com/assets/colab-badge.svg\" alt=\"Open In Colab\"/></a>"
      ]
    },
    {
      "cell_type": "code",
      "metadata": {
        "id": "5L4KcEawR-Ki"
      },
      "source": [
        "import pandas as pd\n",
        "import matplotlib.pyplot as plt\n",
        "import seaborn as sb\n",
        "import numpy as np\n",
        "import sklearn\n",
        "from sklearn.cluster import KMeans\n",
        "from mpl_toolkits.mplot3d import Axes3D\n",
        "from sklearn.preprocessing import scale\n",
        "import sklearn.metrics as sm\n",
        "from sklearn import datasets\n",
        "from sklearn.metrics import confusion_matrix, classification_report\n",
        "df = pd.read_csv  ('datasheets.csv')\n",
        "df"
      ],
      "execution_count": null,
      "outputs": []
    },
    {
      "cell_type": "code",
      "metadata": {
        "id": "uHww7F-oSFS7"
      },
      "source": [
        "\n",
        "df1=df.head(100)\n",
        "print(df1)"
      ],
      "execution_count": null,
      "outputs": []
    },
    {
      "cell_type": "code",
      "metadata": {
        "colab": {
          "base_uri": "https://localhost:8080/",
          "height": 195
        },
        "id": "EysACoqrSq1M",
        "outputId": "00571988-27f1-4c6a-a122-2348282057ba"
      },
      "source": [
        "import numpy as np\n",
        "X[np.isnan(X)] = 0\n",
        "X"
      ],
      "execution_count": 3,
      "outputs": [
        {
          "output_type": "error",
          "ename": "NameError",
          "evalue": "ignored",
          "traceback": [
            "\u001b[0;31m---------------------------------------------------------------------------\u001b[0m",
            "\u001b[0;31mNameError\u001b[0m                                 Traceback (most recent call last)",
            "\u001b[0;32m<ipython-input-3-88d42badbb84>\u001b[0m in \u001b[0;36m<module>\u001b[0;34m()\u001b[0m\n\u001b[1;32m      1\u001b[0m \u001b[0;32mimport\u001b[0m \u001b[0mnumpy\u001b[0m \u001b[0;32mas\u001b[0m \u001b[0mnp\u001b[0m\u001b[0;34m\u001b[0m\u001b[0;34m\u001b[0m\u001b[0m\n\u001b[0;32m----> 2\u001b[0;31m \u001b[0mX\u001b[0m\u001b[0;34m[\u001b[0m\u001b[0mnp\u001b[0m\u001b[0;34m.\u001b[0m\u001b[0misnan\u001b[0m\u001b[0;34m(\u001b[0m\u001b[0mX\u001b[0m\u001b[0;34m)\u001b[0m\u001b[0;34m]\u001b[0m \u001b[0;34m=\u001b[0m \u001b[0;36m0\u001b[0m\u001b[0;34m\u001b[0m\u001b[0;34m\u001b[0m\u001b[0m\n\u001b[0m\u001b[1;32m      3\u001b[0m \u001b[0mX\u001b[0m\u001b[0;34m\u001b[0m\u001b[0;34m\u001b[0m\u001b[0m\n",
            "\u001b[0;31mNameError\u001b[0m: name 'X' is not defined"
          ]
        }
      ]
    },
    {
      "cell_type": "code",
      "metadata": {
        "colab": {
          "base_uri": "https://localhost:8080/",
          "height": 417
        },
        "id": "3q4B_cznWEDx",
        "outputId": "1d9ccc07-0bdb-4a2d-d63b-37680399c2be"
      },
      "source": [
        "\n",
        "df1.drop(columns=['Rank','Name','Platform','Genre','Publisher'],axis = 1)"
      ],
      "execution_count": 4,
      "outputs": [
        {
          "output_type": "execute_result",
          "data": {
            "text/html": [
              "<div>\n",
              "<style scoped>\n",
              "    .dataframe tbody tr th:only-of-type {\n",
              "        vertical-align: middle;\n",
              "    }\n",
              "\n",
              "    .dataframe tbody tr th {\n",
              "        vertical-align: top;\n",
              "    }\n",
              "\n",
              "    .dataframe thead th {\n",
              "        text-align: right;\n",
              "    }\n",
              "</style>\n",
              "<table border=\"1\" class=\"dataframe\">\n",
              "  <thead>\n",
              "    <tr style=\"text-align: right;\">\n",
              "      <th></th>\n",
              "      <th>Year</th>\n",
              "      <th>NA_Sales</th>\n",
              "      <th>EU_Sales</th>\n",
              "      <th>JP_Sales</th>\n",
              "      <th>Other_Sales</th>\n",
              "      <th>Global_Sales</th>\n",
              "    </tr>\n",
              "  </thead>\n",
              "  <tbody>\n",
              "    <tr>\n",
              "      <th>0</th>\n",
              "      <td>2006.0</td>\n",
              "      <td>41.49</td>\n",
              "      <td>29.02</td>\n",
              "      <td>3.77</td>\n",
              "      <td>8.46</td>\n",
              "      <td>82.74</td>\n",
              "    </tr>\n",
              "    <tr>\n",
              "      <th>1</th>\n",
              "      <td>1985.0</td>\n",
              "      <td>29.08</td>\n",
              "      <td>3.58</td>\n",
              "      <td>6.81</td>\n",
              "      <td>0.77</td>\n",
              "      <td>40.24</td>\n",
              "    </tr>\n",
              "    <tr>\n",
              "      <th>2</th>\n",
              "      <td>2008.0</td>\n",
              "      <td>15.85</td>\n",
              "      <td>12.88</td>\n",
              "      <td>3.79</td>\n",
              "      <td>3.31</td>\n",
              "      <td>35.82</td>\n",
              "    </tr>\n",
              "    <tr>\n",
              "      <th>3</th>\n",
              "      <td>2009.0</td>\n",
              "      <td>15.75</td>\n",
              "      <td>11.01</td>\n",
              "      <td>3.28</td>\n",
              "      <td>2.96</td>\n",
              "      <td>33.00</td>\n",
              "    </tr>\n",
              "    <tr>\n",
              "      <th>4</th>\n",
              "      <td>1996.0</td>\n",
              "      <td>11.27</td>\n",
              "      <td>8.89</td>\n",
              "      <td>10.22</td>\n",
              "      <td>1.00</td>\n",
              "      <td>31.37</td>\n",
              "    </tr>\n",
              "    <tr>\n",
              "      <th>...</th>\n",
              "      <td>...</td>\n",
              "      <td>...</td>\n",
              "      <td>...</td>\n",
              "      <td>...</td>\n",
              "      <td>...</td>\n",
              "      <td>...</td>\n",
              "    </tr>\n",
              "    <tr>\n",
              "      <th>95</th>\n",
              "      <td>1997.0</td>\n",
              "      <td>3.78</td>\n",
              "      <td>2.17</td>\n",
              "      <td>1.31</td>\n",
              "      <td>0.31</td>\n",
              "      <td>7.58</td>\n",
              "    </tr>\n",
              "    <tr>\n",
              "      <th>96</th>\n",
              "      <td>1988.0</td>\n",
              "      <td>5.39</td>\n",
              "      <td>1.18</td>\n",
              "      <td>0.70</td>\n",
              "      <td>0.19</td>\n",
              "      <td>7.46</td>\n",
              "    </tr>\n",
              "    <tr>\n",
              "      <th>97</th>\n",
              "      <td>2014.0</td>\n",
              "      <td>3.24</td>\n",
              "      <td>1.35</td>\n",
              "      <td>2.42</td>\n",
              "      <td>0.43</td>\n",
              "      <td>7.45</td>\n",
              "    </tr>\n",
              "    <tr>\n",
              "      <th>98</th>\n",
              "      <td>2008.0</td>\n",
              "      <td>4.79</td>\n",
              "      <td>1.90</td>\n",
              "      <td>0.00</td>\n",
              "      <td>0.69</td>\n",
              "      <td>7.37</td>\n",
              "    </tr>\n",
              "    <tr>\n",
              "      <th>99</th>\n",
              "      <td>2011.0</td>\n",
              "      <td>4.46</td>\n",
              "      <td>2.13</td>\n",
              "      <td>0.06</td>\n",
              "      <td>0.69</td>\n",
              "      <td>7.34</td>\n",
              "    </tr>\n",
              "  </tbody>\n",
              "</table>\n",
              "<p>100 rows × 6 columns</p>\n",
              "</div>"
            ],
            "text/plain": [
              "      Year  NA_Sales  EU_Sales  JP_Sales  Other_Sales  Global_Sales\n",
              "0   2006.0     41.49     29.02      3.77         8.46         82.74\n",
              "1   1985.0     29.08      3.58      6.81         0.77         40.24\n",
              "2   2008.0     15.85     12.88      3.79         3.31         35.82\n",
              "3   2009.0     15.75     11.01      3.28         2.96         33.00\n",
              "4   1996.0     11.27      8.89     10.22         1.00         31.37\n",
              "..     ...       ...       ...       ...          ...           ...\n",
              "95  1997.0      3.78      2.17      1.31         0.31          7.58\n",
              "96  1988.0      5.39      1.18      0.70         0.19          7.46\n",
              "97  2014.0      3.24      1.35      2.42         0.43          7.45\n",
              "98  2008.0      4.79      1.90      0.00         0.69          7.37\n",
              "99  2011.0      4.46      2.13      0.06         0.69          7.34\n",
              "\n",
              "[100 rows x 6 columns]"
            ]
          },
          "metadata": {},
          "execution_count": 4
        }
      ]
    },
    {
      "cell_type": "code",
      "metadata": {
        "colab": {
          "base_uri": "https://localhost:8080/"
        },
        "id": "94o0KAMSXtVa",
        "outputId": "e893a20d-dccb-448d-81f3-f713cd1057d3"
      },
      "source": [
        "X = scale(df1.drop(columns=['Rank','Name','Platform','Genre','Publisher'],axis = 1))\n",
        "y = pd.DataFrame(df1.Global_Sales)\n",
        "\n",
        "X[0:6,]"
      ],
      "execution_count": 5,
      "outputs": [
        {
          "output_type": "execute_result",
          "data": {
            "text/plain": [
              "array([[ 0.120457  ,  5.89345638,  7.10180902,  0.84568881,  4.60425192,\n",
              "         6.89039134],\n",
              "       [-2.57060365,  3.76983323, -0.17933832,  2.33709963, -0.35307237,\n",
              "         2.59149568],\n",
              "       [ 0.37674849,  1.5058901 ,  2.48240186,  0.85550072,  1.28432733,\n",
              "         2.14441053],\n",
              "       [ 0.50489424,  1.4887779 ,  1.94719174,  0.60529693,  1.05870139,\n",
              "         1.85916616],\n",
              "       [-1.16100045,  0.72215166,  1.34042946,  4.01003085, -0.20480389,\n",
              "         1.69429087],\n",
              "       [-2.05802067,  2.76363628, -0.5571337 ,  1.06645686, -0.47555502,\n",
              "         1.58201383]])"
            ]
          },
          "metadata": {},
          "execution_count": 5
        }
      ]
    },
    {
      "cell_type": "code",
      "metadata": {
        "colab": {
          "base_uri": "https://localhost:8080/"
        },
        "id": "cWdspaVLIBb8",
        "outputId": "add02d42-786e-43f7-ab9a-34bb0f6462a0"
      },
      "source": [
        "import numpy as np\n",
        "X[np.isnan(X)] = 0\n",
        "X"
      ],
      "execution_count": 6,
      "outputs": [
        {
          "output_type": "execute_result",
          "data": {
            "text/plain": [
              "array([[ 1.20457000e-01,  5.89345638e+00,  7.10180902e+00,\n",
              "         8.45688809e-01,  4.60425192e+00,  6.89039134e+00],\n",
              "       [-2.57060365e+00,  3.76983323e+00, -1.79338322e-01,\n",
              "         2.33709963e+00, -3.53072368e-01,  2.59149568e+00],\n",
              "       [ 3.76748490e-01,  1.50589010e+00,  2.48240186e+00,\n",
              "         8.55500722e-01,  1.28432733e+00,  2.14441053e+00],\n",
              "       [ 5.04894235e-01,  1.48877790e+00,  1.94719174e+00,\n",
              "         6.05296933e-01,  1.05870139e+00,  1.85916616e+00],\n",
              "       [-1.16100045e+00,  7.22151657e-01,  1.34042946e+00,\n",
              "         4.01003085e+00, -2.04803891e-01,  1.69429087e+00],\n",
              "       [-2.05802067e+00,  2.76363628e+00, -5.57133703e-01,\n",
              "         1.06645686e+00, -4.75555023e-01,  1.58201383e+00],\n",
              "       [ 1.20457000e-01,  7.40975069e-01,  1.43774039e+00,\n",
              "         2.18501498e+00,  1.02002265e+00,  1.55672621e+00],\n",
              "       [ 1.20457000e-01,  1.19444818e+00,  1.42915413e+00,\n",
              "         4.33588450e-01,  9.87790377e-01,  1.45658723e+00],\n",
              "       [ 5.04894235e-01,  1.29027646e+00,  8.16667681e-01,\n",
              "         1.30194278e+00,  6.07449502e-01,  1.41612703e+00],\n",
              "       [-2.69874939e+00,  3.40192108e+00, -1.02365376e+00,\n",
              "        -8.66490065e-01, -5.46466033e-01,  1.38477038e+00],\n",
              "       [-7.68874470e-03,  3.45683411e-01,  1.94432965e+00,\n",
              "        -5.70072164e-02,  9.23325822e-01,  1.02568616e+00],\n",
              "       [-7.68874470e-03,  4.72313639e-01,  9.62634079e-01,\n",
              "         1.02230325e+00,  3.88270015e-01,  8.90144507e-01],\n",
              "       [-7.76563215e-01,  3.33704876e-01,  5.64804094e-01,\n",
              "         2.52843194e+00, -3.91751101e-01,  8.57776352e-01],\n",
              "       [ 2.48602745e-01,  3.23437560e-01,  1.09429004e+00,\n",
              "         7.62287546e-01,  5.36538492e-01,  8.19339167e-01],\n",
              "       [ 5.04894235e-01,  3.49105849e-01,  1.25456687e+00,\n",
              "         2.37350183e-01,  3.04466094e-01,  7.46510817e-01],\n",
              "       [ 6.33039980e-01,  1.35530280e+00,  2.09905403e-01,\n",
              "        -8.86113892e-01,  2.27108628e-01,  7.28303730e-01],\n",
              "       [ 1.01747722e+00, -6.82776501e-03,  1.44918874e+00,\n",
              "        -5.27979056e-01,  1.81938314e+00,  6.85820526e-01],\n",
              "       [-1.35834490e-01,  4.07287306e-01, -1.08948174e+00,\n",
              "        -8.02712629e-01,  5.96445403e+00,  6.26141739e-01],\n",
              "       [-1.92987492e+00,  9.80545771e-01, -1.30682857e-01,\n",
              "         7.32851806e-01, -4.94894389e-01,  6.05911642e-01],\n",
              "       [-7.68874470e-03, -3.93563327e-01,  1.44632665e+00,\n",
              "         1.03702112e+00,  4.72073937e-01,  5.66462952e-01],\n",
              "       [ 1.20457000e-01, -1.07789704e-01,  8.96977821e-02,\n",
              "         1.95934097e+00,  3.37149623e-02,  3.78323048e-01],\n",
              "       [-2.05802067e+00,  6.46858008e-01, -4.28339823e-01,\n",
              "         1.04683303e+00, -5.78698311e-01,  3.56069941e-01],\n",
              "       [-2.18616641e+00,  4.26110718e-01, -2.19407529e-01,\n",
              "         8.80030506e-01, -5.52912489e-01,  2.69080523e-01],\n",
              "       [ 1.01747722e+00,  4.41511692e-01,  3.15802593e-01,\n",
              "        -9.74421112e-01,  4.01614178e-02,  1.78045086e-01],\n",
              "       [-3.92125980e-01,  2.32742937e-01,  3.67320145e-01,\n",
              "        -7.73276889e-01,  2.98019638e-01,  1.54780474e-01],\n",
              "       [-3.92125980e-01, -1.69393599e-01, -8.77515634e-02,\n",
              "         1.63554783e+00, -5.27126667e-01,  1.24435328e-01],\n",
              "       [ 6.33039980e-01, -2.53243344e-01, -2.65200909e-01,\n",
              "         1.76800866e+00, -3.20840091e-01,  7.08255703e-02],\n",
              "       [-7.68874470e-03, -6.17733055e-01,  3.30113024e-01,\n",
              "         1.60611209e+00, -8.87676923e-02,  6.88025606e-02],\n",
              "       [-5.20271725e-01, -3.42072738e-02,  2.52836696e-01,\n",
              "        -8.64429563e-02, -1.01660603e-01,  3.64344051e-02],\n",
              "       [ 7.61185725e-01,  3.38838534e-01,  2.10077128e-02,\n",
              "        -9.40079415e-01,  1.48268477e-03,  1.41812981e-02],\n",
              "       [-9.04708960e-01, -1.98484327e-01,  2.38526265e-01,\n",
              "         5.26801626e-01, -4.69108567e-01,  2.04323982e-03],\n",
              "       [ 6.33039980e-01,  4.48356569e-01, -1.36407029e-01,\n",
              "        -9.49891328e-01, -1.20999970e-01,  2.04323982e-03],\n",
              "       [ 1.01747722e+00, -3.21692116e-01, -4.48202702e-02,\n",
              "         1.12532834e+00, -3.40179457e-01, -2.72904011e-02],\n",
              "       [ 1.27376871e+00, -2.19018958e-01,  4.58906904e-01,\n",
              "        -8.32148369e-01,  6.39681780e-01, -3.84169546e-02],\n",
              "       [ 8.89331470e-01, -3.52494064e-01,  4.78941508e-01,\n",
              "        -6.84969669e-01,  7.75057346e-01, -5.96585567e-02],\n",
              "       [ 8.89331470e-01,  2.05363428e-01,  2.67318853e-02,\n",
              "        -9.69515155e-01, -1.27446425e-01, -9.00037025e-02],\n",
              "       [ 5.04894235e-01,  2.51566349e-01, -1.65027891e-01,\n",
              "        -9.64609198e-01, -1.78566818e-02, -1.12256809e-01],\n",
              "       [ 7.61185725e-01, -2.58377002e-01,  4.61768990e-01,\n",
              "        -7.63464975e-01,  1.94876350e-01, -1.17314334e-01],\n",
              "       [-5.20271725e-01, -1.02502036e-02,  8.68356959e-02,\n",
              "        -8.56678152e-01, -1.14102262e-02, -1.53728509e-01],\n",
              "       [ 3.76748490e-01, -5.13194668e-02, -4.56960686e-01,\n",
              "         3.01127620e-01, -1.91910980e-01, -1.59797538e-01],\n",
              "       [ 6.33039980e-01, -1.83083353e-01,  6.68010923e-02,\n",
              "        -7.68370932e-01,  3.30251916e-01, -1.91154189e-01],\n",
              "       [-7.68874470e-03, -7.70031573e-01, -1.96510840e-01,\n",
              "         1.61101805e+00, -2.82161358e-01, -2.37683412e-01],\n",
              "       [ 7.61185725e-01, -3.95274546e-01, -8.48894772e-02,\n",
              "         3.06033576e-01, -2.75714902e-01, -2.43752441e-01],\n",
              "       [ 2.48602745e-01,  1.57449288e-01, -3.93994789e-01,\n",
              "        -9.40079415e-01, -6.94283258e-02, -2.50832975e-01],\n",
              "       [ 1.14562296e+00, -5.56129160e-01,  4.58906904e-01,\n",
              "        -8.27242412e-01,  4.52734570e-01, -2.67017053e-01],\n",
              "       [ 5.04894235e-01, -4.53456002e-01, -4.11167306e-01,\n",
              "         9.38901985e-01, -3.53072368e-01, -2.75109092e-01],\n",
              "       [-1.16100045e+00, -2.39399580e-02, -3.88270616e-01,\n",
              "        -6.68191297e-02, -7.01180966e-01, -2.76120597e-01],\n",
              "       [-1.35834490e-01, -6.91315485e-01, -1.20110310e+00,\n",
              "        -4.64201619e-01,  4.00473156e+00, -2.99385209e-01],\n",
              "       [ 2.48602745e-01, -1.52281406e-01, -2.30855874e-01,\n",
              "        -4.15142052e-01, -3.59518824e-01, -3.13546277e-01],\n",
              "       [ 1.14562296e+00, -4.82546730e-01, -2.39442133e-01,\n",
              "         5.07177799e-01, -4.30429834e-01, -3.32764869e-01],\n",
              "       [-1.67358343e+00, -1.52281406e-01, -6.20099600e-01,\n",
              "         3.15845490e-01, -6.62502233e-01, -3.47937442e-01],\n",
              "       [ 3.76748490e-01, -4.96082475e-02, -3.16718461e-01,\n",
              "        -9.35173458e-01, -1.85464525e-01, -3.64121520e-01],\n",
              "       [-1.03285470e+00, -5.18482336e-01, -9.63378221e-02,\n",
              "         2.42256140e-01, -5.14233756e-01, -3.71202054e-01],\n",
              "       [ 7.61185725e-01, -3.69606257e-01, -3.48201409e-01,\n",
              "         4.11119168e-02, -3.46625913e-01, -3.87386131e-01],\n",
              "       [ 6.33039980e-01, -6.99871582e-01,  1.92732886e-01,\n",
              "        -6.06474362e-01,  5.17199125e-01, -3.89409141e-01],\n",
              "       [ 5.04894235e-01, -3.52494064e-01, -1.47855374e-01,\n",
              "        -8.17430499e-01,  2.01322806e-01, -3.97501180e-01],\n",
              "       [ 3.76748490e-01, -3.91852108e-01, -1.27820770e-01,\n",
              "        -7.87994759e-01,  1.94876350e-01, -4.09639238e-01],\n",
              "       [-1.54543768e+00, -1.81372134e-01, -5.88616652e-01,\n",
              "         3.62059601e-02, -6.62502233e-01, -4.11662248e-01],\n",
              "       [-1.35834490e-01, -4.63723318e-01, -4.45512341e-01,\n",
              "         5.41519496e-01, -6.23823499e-01, -4.17731277e-01],\n",
              "       [-1.35834490e-01, -3.37093090e-01, -3.13856375e-01,\n",
              "        -3.90612269e-01, -2.17696802e-01, -4.24811811e-01],\n",
              "       [ 7.61185725e-01, -1.71104818e-01, -3.02408030e-01,\n",
              "        -1.00385685e+00, -1.59678703e-01, -4.40995889e-01],\n",
              "       [ 1.01747722e+00, -5.64531247e-02, -4.51236513e-01,\n",
              "        -9.84233025e-01, -3.20840091e-01, -4.46053413e-01],\n",
              "       [ 6.33039980e-01, -3.40532641e-03, -6.37272117e-01,\n",
              "        -9.64609198e-01, -3.46625913e-01, -4.79433074e-01],\n",
              "       [-1.16100045e+00, -2.56665783e-01, -6.48720462e-01,\n",
              "         9.01714834e-02, -7.52752610e-01, -4.80444579e-01],\n",
              "       [ 8.89331470e-01, -5.80086231e-01, -3.25304720e-01,\n",
              "         2.07914443e-01, -4.43322745e-01, -4.85502103e-01],\n",
              "       [ 8.89331470e-01, -7.18540984e-02, -5.28512841e-01,\n",
              "        -9.84233025e-01, -3.78858190e-01, -4.91571132e-01],\n",
              "       [-1.03285470e+00, -6.91315485e-01, -4.97029893e-01,\n",
              "         6.05296933e-01, -2.30589714e-01, -4.95617152e-01],\n",
              "       [ 1.01747722e+00, -5.06503801e-01, -1.36407029e-01,\n",
              "        -8.17430499e-01,  4.01614178e-02, -5.08766715e-01],\n",
              "       [ 6.33039980e-01, -2.07040423e-01, -3.76822271e-01,\n",
              "        -9.98950895e-01, -3.46625913e-01, -5.15847249e-01],\n",
              "       [-7.76563215e-01, -5.42439406e-01, -2.25131702e-01,\n",
              "        -1.74750176e-01, -5.27126667e-01, -5.18881763e-01],\n",
              "       [ 2.48602745e-01, -1.95061888e-01, -5.22788669e-01,\n",
              "        -9.40079415e-01, -2.69268447e-01, -5.36077346e-01],\n",
              "       [-1.41729194e+00, -4.60300880e-01, -7.14548445e-01,\n",
              "         4.67930146e-01, -7.01180966e-01, -5.38100356e-01],\n",
              "       [ 1.01747722e+00, -2.51532125e-01, -3.93994789e-01,\n",
              "        -9.94044938e-01, -3.53072368e-01, -5.48215404e-01],\n",
              "       [ 8.89331470e-01, -8.62437415e-01, -5.39961186e-01,\n",
              "         1.13514025e+00, -5.85144766e-01, -5.59341958e-01],\n",
              "       [ 2.48602745e-01, -4.43188687e-01, -6.65892979e-01,\n",
              "        -3.24774331e-02, -3.98197557e-01, -5.66422492e-01],\n",
              "       [ 7.61185725e-01, -3.45649186e-01, -3.85408530e-01,\n",
              "        -9.54797285e-01, -3.01500724e-01, -5.84629579e-01],\n",
              "       [-1.67358343e+00, -6.00620862e-01, -8.49066497e-01,\n",
              "         8.65312636e-01, -7.33413243e-01, -5.92721618e-01],\n",
              "       [ 1.27376871e+00, -1.01644715e+00,  5.30459060e-01,\n",
              "        -9.74421112e-01, -3.71960483e-02, -6.20032249e-01],\n",
              "       [ 6.33039980e-01, -9.00084240e-01, -1.93648754e-01,\n",
              "         2.17726357e-01, -4.11090468e-01, -6.20032249e-01],\n",
              "       [-1.35834490e-01, -3.93409317e-02, -7.66065997e-01,\n",
              "        -9.79327068e-01, -7.97877798e-01, -6.20032249e-01],\n",
              "       [ 2.48602745e-01, -5.54417941e-01, -5.45685358e-01,\n",
              "        -2.28715699e-01, -3.78858190e-01, -6.27112783e-01],\n",
              "       [ 8.89331470e-01, -7.08427678e-01, -6.71617152e-01,\n",
              "         5.36613539e-01, -5.72251855e-01, -6.36216327e-01],\n",
              "       [ 8.89331470e-01, -1.02500325e+00,  2.41388352e-01,\n",
              "        -9.40079415e-01,  4.46288115e-01, -6.45319871e-01],\n",
              "       [ 5.04894235e-01, -1.03869300e+00,  6.33494163e-01,\n",
              "        -1.00385685e+00, -3.91751101e-01, -6.58469434e-01],\n",
              "       [-1.03285470e+00, -2.13885300e-01, -6.28685859e-01,\n",
              "        -9.40079415e-01, -7.52752610e-01, -6.60492444e-01],\n",
              "       [ 2.48602745e-01, -7.64897915e-01, -8.77515634e-02,\n",
              "        -6.80063712e-01, -2.62821991e-01, -6.63526958e-01],\n",
              "       [-5.20271725e-01, -7.08427678e-01, -6.11513341e-01,\n",
              "         3.35469316e-01, -6.36716410e-01, -6.64538463e-01],\n",
              "       [-7.76563215e-01, -8.16234494e-01, -7.11686359e-01,\n",
              "         7.77005416e-01, -7.01180966e-01, -6.83757056e-01],\n",
              "       [ 3.76748490e-01, -7.23828652e-01, -6.94513842e-01,\n",
              "         3.15845490e-01, -4.94894389e-01, -6.85780065e-01],\n",
              "       [-2.95504088e+00,  3.93751561e-02, -1.07517131e+00,\n",
              "        -1.00385685e+00, -7.97877798e-01, -6.88814580e-01],\n",
              "       [-7.68874470e-03, -7.10138897e-01, -3.93994789e-01,\n",
              "        -8.86113892e-01,  2.78680272e-01, -6.97918124e-01],\n",
              "       [ 6.33039980e-01, -5.80086231e-01, -5.11340324e-01,\n",
              "        -5.23073099e-01, -4.36876290e-01, -7.00952638e-01],\n",
              "       [ 1.27376871e+00, -7.05005239e-01, -2.62338823e-01,\n",
              "        -8.95925805e-01, -5.65354148e-02, -7.02975648e-01],\n",
              "       [ 1.14562296e+00, -7.27251090e-01, -2.59476737e-01,\n",
              "        -9.35173458e-01,  3.37149623e-02, -7.10056182e-01],\n",
              "       [-9.04708960e-01, -5.04792581e-01, -6.63030893e-01,\n",
              "        -2.92493136e-01, -7.46306154e-01, -7.10056182e-01],\n",
              "       [-1.03285470e+00, -5.59551599e-01, -5.82892479e-01,\n",
              "        -3.61176529e-01, -6.49609322e-01, -7.12079192e-01],\n",
              "       [-2.18616641e+00, -2.84045292e-01, -8.66239015e-01,\n",
              "        -6.60439885e-01, -7.26966788e-01, -7.24217250e-01],\n",
              "       [ 1.14562296e+00, -6.51957441e-01, -8.17583549e-01,\n",
              "         1.83384660e-01, -5.72251855e-01, -7.25228755e-01],\n",
              "       [ 3.76748490e-01, -3.86718450e-01, -6.60168807e-01,\n",
              "        -1.00385685e+00, -4.04644012e-01, -7.33320794e-01],\n",
              "       [ 7.61185725e-01, -4.43188687e-01, -5.94340824e-01,\n",
              "        -9.74421112e-01, -4.04644012e-01, -7.36355308e-01]])"
            ]
          },
          "metadata": {},
          "execution_count": 6
        }
      ]
    },
    {
      "cell_type": "code",
      "metadata": {
        "colab": {
          "base_uri": "https://localhost:8080/"
        },
        "id": "o56QF_ADIFHc",
        "outputId": "b6a4f771-8baf-47c7-e62e-82dbbc50cfcd"
      },
      "source": [
        "clustering = KMeans(n_clusters = 3, random_state = 5)\n",
        "clustering.fit(X)"
      ],
      "execution_count": 7,
      "outputs": [
        {
          "output_type": "execute_result",
          "data": {
            "text/plain": [
              "KMeans(algorithm='auto', copy_x=True, init='k-means++', max_iter=300,\n",
              "       n_clusters=3, n_init=10, n_jobs=None, precompute_distances='auto',\n",
              "       random_state=5, tol=0.0001, verbose=0)"
            ]
          },
          "metadata": {},
          "execution_count": 7
        }
      ]
    },
    {
      "cell_type": "code",
      "metadata": {
        "colab": {
          "base_uri": "https://localhost:8080/",
          "height": 298
        },
        "id": "uOENO9BbIN1A",
        "outputId": "3586483e-85ef-450c-a397-e4ad06458e0d"
      },
      "source": [
        "color_theme = np.array(['darkgray', 'lightsalmon', 'powderblue'])\n",
        "plt.subplot(1,2,1)\n",
        "plt.scatter(x = df1.NA_Sales, y=df1.Global_Sales, c=color_theme[clustering.labels_])\n",
        "plt.title(\"Sales\")"
      ],
      "execution_count": 8,
      "outputs": [
        {
          "output_type": "execute_result",
          "data": {
            "text/plain": [
              "Text(0.5, 1.0, 'Sales')"
            ]
          },
          "metadata": {},
          "execution_count": 8
        },
        {
          "output_type": "display_data",
          "data": {
            "image/png": "[encoded data removed]",
            "text/plain": [
              "<Figure size 432x288 with 1 Axes>"
            ]
          },
          "metadata": {
            "needs_background": "light"
          }
        }
      ]
    }
  ]
}