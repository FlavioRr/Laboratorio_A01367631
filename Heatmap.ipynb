{
  "nbformat": 4,
  "nbformat_minor": 0,
  "metadata": {
    "colab": {
      "name": "Heatmap",
      "provenance": [],
      "collapsed_sections": [],
      "authorship_tag": "ABX9TyO238a5ojbFNByCBZd7rys1",
      "include_colab_link": true
    },
    "kernelspec": {
      "name": "python3",
      "display_name": "Python 3"
    },
    "language_info": {
      "name": "python"
    }
  },
  "cells": [
    {
      "cell_type": "markdown",
      "metadata": {
        "id": "view-in-github",
        "colab_type": "text"
      },
      "source": [
        "<a href=\"https://colab.research.google.com/github/FlavioRr/Laboratorio_A01367631/blob/main/Heatmap.ipynb\" target=\"_parent\"><img src=\"https://colab.research.google.com/assets/colab-badge.svg\" alt=\"Open In Colab\"/></a>"
      ]
    },
    {
      "cell_type": "code",
      "metadata": {
        "id": "VoaX-K0jxsJg"
      },
      "source": [
        "import numpy as np"
      ],
      "execution_count": 5,
      "outputs": []
    },
    {
      "cell_type": "code",
      "metadata": {
        "id": "mpVy9pI5TKcT"
      },
      "source": [
        "import pandas as pd"
      ],
      "execution_count": 10,
      "outputs": []
    },
    {
      "cell_type": "code",
      "metadata": {
        "id": "friI4Ry4R5g7"
      },
      "source": [
        "import seaborn as sb"
      ],
      "execution_count": 4,
      "outputs": []
    },
    {
      "cell_type": "code",
      "metadata": {
        "id": "5L4KcEawR-Ki"
      },
      "source": [
        "import matplotlib.pyplot as plt"
      ],
      "execution_count": 3,
      "outputs": []
    },
    {
      "cell_type": "code",
      "metadata": {
        "colab": {
          "base_uri": "https://localhost:8080/"
        },
        "id": "uHww7F-oSFS7",
        "outputId": "88bb027d-9492-430c-820e-6240fed59cd0"
      },
      "source": [
        "df=pd.read_csv('datasheets1.csv')\n",
        "print(df)"
      ],
      "execution_count": 17,
      "outputs": [
        {
          "output_type": "stream",
          "name": "stdout",
          "text": [
            "       NA_Sales  EU_Sales  JP_Sales  Other_Sales  Global_Sales\n",
            "0         41.49     29.02      3.77         8.46         82.74\n",
            "1         29.08      3.58      6.81         0.77         40.24\n",
            "2         15.85     12.88      3.79         3.31         35.82\n",
            "3         15.75     11.01      3.28         2.96         33.00\n",
            "4         11.27      8.89     10.22         1.00         31.37\n",
            "...         ...       ...       ...          ...           ...\n",
            "16593      0.01      0.00      0.00         0.00          0.01\n",
            "16594      0.01      0.00      0.00         0.00          0.01\n",
            "16595      0.00      0.00      0.00         0.00          0.01\n",
            "16596      0.00      0.01      0.00         0.00          0.01\n",
            "16597      0.01      0.00      0.00         0.00          0.01\n",
            "\n",
            "[16598 rows x 5 columns]\n"
          ]
        }
      ]
    },
    {
      "cell_type": "code",
      "metadata": {
        "colab": {
          "base_uri": "https://localhost:8080/",
          "height": 323
        },
        "id": "EysACoqrSq1M",
        "outputId": "48d3ac09-e85d-423f-c318-4b9e26ed09a6"
      },
      "source": [
        "heat_map=sb.heatmap(df)"
      ],
      "execution_count": 18,
      "outputs": [
        {
          "output_type": "display_data",
          "data": {
            "image/png": "[encoded data removed]",
            "text/plain": [
              "<Figure size 432x288 with 2 Axes>"
            ]
          },
          "metadata": {
            "needs_background": "light"
          }
        }
      ]
    },
    {
      "cell_type": "code",
      "metadata": {
        "id": "3q4B_cznWEDx"
      },
      "source": [
        "box_plot=plt.boxplot(df)"
      ],
      "execution_count": null,
      "outputs": []
    },
    {
      "cell_type": "code",
      "metadata": {
        "id": "94o0KAMSXtVa"
      },
      "source": [
        "plt.hist(df)"
      ],
      "execution_count": null,
      "outputs": []
    }
  ]
}