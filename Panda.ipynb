{
  "nbformat": 4,
  "nbformat_minor": 0,
  "metadata": {
    "colab": {
      "name": "Panda",
      "provenance": [],
      "collapsed_sections": [],
      "authorship_tag": "ABX9TyMm5sD+1d4wrTHaI0wbTFuU",
      "include_colab_link": true
    },
    "kernelspec": {
      "name": "python3",
      "display_name": "Python 3"
    },
    "language_info": {
      "name": "python"
    }
  },
  "cells": [
    {
      "cell_type": "markdown",
      "metadata": {
        "id": "view-in-github",
        "colab_type": "text"
      },
      "source": [
        "<a href=\"https://colab.research.google.com/github/FlavioRr/Laboratorio_A01367631/blob/main/Panda.ipynb\" target=\"_parent\"><img src=\"https://colab.research.google.com/assets/colab-badge.svg\" alt=\"Open In Colab\"/></a>"
      ]
    },
    {
      "cell_type": "code",
      "metadata": {
        "id": "VoaX-K0jxsJg"
      },
      "source": [
        "import pandas as pd"
      ],
      "execution_count": 2,
      "outputs": []
    },
    {
      "cell_type": "code",
      "metadata": {
        "id": "ZCDH028Nxv6U",
        "colab": {
          "base_uri": "https://localhost:8080/"
        },
        "outputId": "6e89fbf9-6cae-4994-9d31-f98866c26a2d"
      },
      "source": [
        "df=pd.read_csv('datasheets.csv')\n",
        "print(df)\n",
        "df.info()"
      ],
      "execution_count": 9,
      "outputs": [
        {
          "output_type": "stream",
          "name": "stdout",
          "text": [
            "        Rank  ... Global_Sales\n",
            "0          1  ...        82.74\n",
            "1          2  ...        40.24\n",
            "2          3  ...        35.82\n",
            "3          4  ...        33.00\n",
            "4          5  ...        31.37\n",
            "...      ...  ...          ...\n",
            "16593  16596  ...         0.01\n",
            "16594  16597  ...         0.01\n",
            "16595  16598  ...         0.01\n",
            "16596  16599  ...         0.01\n",
            "16597  16600  ...         0.01\n",
            "\n",
            "[16598 rows x 11 columns]\n",
            "<class 'pandas.core.frame.DataFrame'>\n",
            "RangeIndex: 16598 entries, 0 to 16597\n",
            "Data columns (total 11 columns):\n",
            " #   Column        Non-Null Count  Dtype  \n",
            "---  ------        --------------  -----  \n",
            " 0   Rank          16598 non-null  int64  \n",
            " 1   Name          16598 non-null  object \n",
            " 2   Platform      16598 non-null  object \n",
            " 3   Year          16327 non-null  float64\n",
            " 4   Genre         16598 non-null  object \n",
            " 5   Publisher     16540 non-null  object \n",
            " 6   NA_Sales      16598 non-null  float64\n",
            " 7   EU_Sales      16598 non-null  float64\n",
            " 8   JP_Sales      16598 non-null  float64\n",
            " 9   Other_Sales   16598 non-null  float64\n",
            " 10  Global_Sales  16598 non-null  float64\n",
            "dtypes: float64(6), int64(1), object(4)\n",
            "memory usage: 1.4+ MB\n"
          ]
        }
      ]
    },
    {
      "cell_type": "code",
      "metadata": {
        "id": "AY_LW4PCx35t",
        "colab": {
          "base_uri": "https://localhost:8080/"
        },
        "outputId": "7cf62416-0ec4-4567-c706-917c619e6f40"
      },
      "source": [
        "print('media ventas EEUU: ',df['EU_Sales'].mean())\n",
        "print('media ventas Japon: ',df['JP_Sales'].mean())\n",
        "print('media ventas global: ',df['Global_Sales'].mean())"
      ],
      "execution_count": 10,
      "outputs": [
        {
          "output_type": "stream",
          "name": "stdout",
          "text": [
            "media ventas EEUU:  0.1466520062658483\n",
            "media ventas Japon:  0.07778166044101108\n",
            "media ventas global:  0.53744065550074\n"
          ]
        }
      ]
    },
    {
      "cell_type": "code",
      "metadata": {
        "colab": {
          "base_uri": "https://localhost:8080/"
        },
        "id": "8w63CGFF839t",
        "outputId": "b79a3a42-ebaa-4c6b-9d8a-ec14d0906092"
      },
      "source": [
        "print('mediana ventas EEUU: ',df['EU_Sales'].median())\n",
        "print('mediana ventas Japon: ',df['JP_Sales'].median())\n",
        "print('mediana ventas global: ',df['Global_Sales'].median())"
      ],
      "execution_count": 11,
      "outputs": [
        {
          "output_type": "stream",
          "name": "stdout",
          "text": [
            "mediana ventas EEUU:  0.02\n",
            "mediana ventas Japon:  0.0\n",
            "mediana ventas global:  0.17\n"
          ]
        }
      ]
    },
    {
      "cell_type": "code",
      "metadata": {
        "colab": {
          "base_uri": "https://localhost:8080/"
        },
        "id": "_Sji3oZQ9KKq",
        "outputId": "02aec468-4e42-47e5-c725-e132264a2b32"
      },
      "source": [
        "print('Desviacion estandar ventas EEUU: ',df['EU_Sales'].std())\n",
        "print('Desviacion estandar ventas Japon: ',df['JP_Sales'].std())\n",
        "print('Desviacion estandar ventas global: ',df['Global_Sales'].std())"
      ],
      "execution_count": 12,
      "outputs": [
        {
          "output_type": "stream",
          "name": "stdout",
          "text": [
            "Desviacion estandar ventas EEUU:  0.5053512312869366\n",
            "Desviacion estandar ventas Japon:  0.30929064808213236\n",
            "Desviacion estandar ventas global:  1.5550279355699022\n"
          ]
        }
      ]
    }
  ]
}